{
  "nbformat": 4,
  "nbformat_minor": 0,
  "metadata": {
    "kernelspec": {
      "display_name": "Python 3",
      "language": "python",
      "name": "python3"
    },
    "language_info": {
      "codemirror_mode": {
        "name": "ipython",
        "version": 3
      },
      "file_extension": ".py",
      "mimetype": "text/x-python",
      "name": "python",
      "nbconvert_exporter": "python",
      "pygments_lexer": "ipython3",
      "version": "3.6.4"
    },
    "colab": {
      "name": "Python module versions.ipynb",
      "provenance": [],
      "include_colab_link": true
    }
  },
  "cells": [
    {
      "cell_type": "markdown",
      "metadata": {
        "id": "view-in-github",
        "colab_type": "text"
      },
      "source": [
        "<a href=\"https://colab.research.google.com/github/dkapitan/jads-handson-islr/blob/master/python/Python%20module%20versions.ipynb\" target=\"_parent\"><img src=\"https://colab.research.google.com/assets/colab-badge.svg\" alt=\"Open In Colab\"/></a>"
      ]
    },
    {
      "cell_type": "code",
      "metadata": {
        "id": "-goHrNvF144Z"
      },
      "source": [
        "# %load ../standard_import.txt\n",
        "import IPython as ipy\n",
        "import pandas as pd\n",
        "import numpy as np\n",
        "import matplotlib as mpl\n",
        "import seaborn as sns\n",
        "import sklearn as skl\n",
        "import statsmodels as sm\n",
        "import scipy as sp\n",
        "import pydot as pdt\n",
        "import patsy as pat\n",
        "import glmnet as gln"
      ],
      "execution_count": null,
      "outputs": []
    },
    {
      "cell_type": "code",
      "metadata": {
        "id": "-NahgwUC144d",
        "outputId": "b3328854-64ef-4d6b-ac89-caac461f1732"
      },
      "source": [
        "print('IPython {}'.format(ipy.__version__))\n",
        "print('pandas {}'.format(pd.__version__))\n",
        "print('numpy {}'.format(np.__version__))\n",
        "print('scikit-learn {}'.format(skl.__version__))\n",
        "print('statsmodels {}'.format(sm.__version__))\n",
        "print('patsy {} (For regression splines)'.format(pat.__version__))\n",
        "print('matplotlib {}'.format(mpl.__version__))\n",
        "print('seaborn {}'.format(sns.__version__))\n",
        "print('scipy {}'.format(sp.__version__))\n",
        "print('pydot {} (For visualizing tree based models)'.format(pdt.__version__))\n",
        "print('python-glmnet {}'.format(gln.__version__))"
      ],
      "execution_count": null,
      "outputs": [
        {
          "output_type": "stream",
          "text": [
            "IPython 6.2.1\n",
            "pandas 0.22.0\n",
            "numpy 1.13.3\n",
            "scikit-learn 0.19.1\n",
            "statsmodels 0.8.0\n",
            "patsy 0.5.0 (For regression splines)\n",
            "matplotlib 2.1.1\n",
            "seaborn 0.8.1\n",
            "scipy 1.0.0\n",
            "pydot 1.2.3 (For visualizing tree based models)\n",
            "python-glmnet 2.0.0\n"
          ],
          "name": "stdout"
        }
      ]
    }
  ]
}